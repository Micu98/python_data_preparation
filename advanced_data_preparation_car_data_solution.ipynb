{
 "cells": [
  {
   "cell_type": "markdown",
   "id": "3272230e",
   "metadata": {},
   "source": [
    "# Advanced Data Preparation with Python (Car Data)"
   ]
  },
  {
   "cell_type": "markdown",
   "id": "c0e6a164",
   "metadata": {},
   "source": [
    "## Libraries and settings"
   ]
  },
  {
   "cell_type": "code",
   "execution_count": null,
   "id": "08b11b70",
   "metadata": {},
   "outputs": [],
   "source": [
    "# Libraries\n",
    "import os\n",
    "import re\n",
    "import time\n",
    "import fnmatch\n",
    "import numpy as np\n",
    "import pandas as pd\n",
    "import seaborn as sns\n",
    "from datetime import datetime\n",
    "import matplotlib.pyplot as plt\n",
    "\n",
    "# Ignore warnings\n",
    "import warnings\n",
    "warnings.filterwarnings(\"ignore\")\n",
    "\n",
    "# Get current working directory\n",
    "print(os.getcwd())"
   ]
  },
  {
   "cell_type": "markdown",
   "id": "2a7bff4a",
   "metadata": {},
   "source": [
    "## Importing data"
   ]
  },
  {
   "cell_type": "code",
   "execution_count": null,
   "id": "63836335",
   "metadata": {},
   "outputs": [],
   "source": [
    "# Import data from csv to pandas dataframe named 'df'\n",
    "df = pd.read_csv('./Data/autoscout24_data.csv', sep=\";\", encoding='utf-8')\n",
    "\n",
    "# Change the column names to lowercase\n",
    "df.columns = df.columns.str.lower()\n",
    "\n",
    "# Display the first 5 rows of the dataframe\n",
    "df.head()\n"
   ]
  },
  {
   "cell_type": "markdown",
   "id": "b95e9f0e",
   "metadata": {},
   "source": [
    "## Count number of rows and columns in the data frame"
   ]
  },
  {
   "cell_type": "code",
   "execution_count": null,
   "id": "8c8982fb",
   "metadata": {},
   "outputs": [],
   "source": [
    "# Count number of rows and columns in the data frame\n",
    "print(\"Number of rows: \", df.shape[0])\n",
    "print(\"Number of columns: \", df.shape[1])\n"
   ]
  },
  {
   "cell_type": "markdown",
   "id": "ace6d22c",
   "metadata": {},
   "source": [
    "## Get data types (raw-format from web scraper)"
   ]
  },
  {
   "cell_type": "code",
   "execution_count": null,
   "id": "aada7494",
   "metadata": {},
   "outputs": [],
   "source": [
    "# Get data types of each column\n",
    "df.dtypes\n"
   ]
  },
  {
   "cell_type": "markdown",
   "id": "9ea951fd",
   "metadata": {},
   "source": [
    "## Extract information from raw data using regular expressions (regex)"
   ]
  },
  {
   "cell_type": "markdown",
   "id": "54e63f6f",
   "metadata": {},
   "source": [
    "### Extract numerical values from mileage_raw"
   ]
  },
  {
   "cell_type": "code",
   "execution_count": null,
   "id": "cb833795",
   "metadata": {},
   "outputs": [],
   "source": [
    "# Extract numerical values (note the 'join' function)\n",
    "mileage = []\n",
    "for i in df['mileage_raw']:\n",
    "    d1 = re.findall(\"\\d+\", i)\n",
    "    try:\n",
    "        d2 = int(''.join(d1))\n",
    "    except:\n",
    "        d2 = None\n",
    "    mileage.append(d2)\n",
    "\n",
    "# Save as new variable in the pandas data frame\n",
    "df['mileage'] = pd.Series(mileage, dtype=\"Int64\")\n",
    "\n",
    "# Show first records of data frame\n",
    "df[['mileage_raw', 'mileage']].head()\n"
   ]
  },
  {
   "cell_type": "markdown",
   "id": "d7f049dc",
   "metadata": {},
   "source": [
    "### Extract numerical values from hp_raw"
   ]
  },
  {
   "cell_type": "code",
   "execution_count": null,
   "id": "87157a58",
   "metadata": {},
   "outputs": [],
   "source": [
    "# Extract numerical values (note the 'join' function)\n",
    "hp = []\n",
    "for i in df['hp_raw']:\n",
    "    d1 = re.findall(\"\\d+\", i)\n",
    "    try:\n",
    "        d2 = int(''.join(d1))\n",
    "    except:\n",
    "        d2 = None\n",
    "    hp.append(d2)\n",
    "\n",
    "# Save as new variable in the pandas data frame\n",
    "df['hp'] = pd.Series(hp, dtype=\"Int64\")\n",
    "\n",
    "# Show first records of data frame\n",
    "df[['hp_raw', 'hp']].head()\n"
   ]
  },
  {
   "cell_type": "markdown",
   "id": "319ca1bd",
   "metadata": {},
   "source": [
    "### Extract numerical values from price_raw"
   ]
  },
  {
   "cell_type": "code",
   "execution_count": null,
   "id": "2577e032",
   "metadata": {},
   "outputs": [],
   "source": [
    "# Extract numerical values (note the 'join' function)\n",
    "price = []\n",
    "for i in df['price_raw']:\n",
    "    d1 = re.findall(\"CHF\\s*([\\d']+)\\.–\", i)\n",
    "    try:\n",
    "        d2 = d1[0].strip().replace(\"'\", \"\")\n",
    "    except:\n",
    "        d2 = None\n",
    "    price.append(d2)\n",
    "\n",
    "# Save as new variable in the pandas data frame\n",
    "df['price'] = pd.Series(price, dtype=\"Int64\")\n",
    "\n",
    "# Show first records of data frame\n",
    "df[['price_raw', 'price']].head()\n",
    "\n"
   ]
  },
  {
   "cell_type": "markdown",
   "id": "53c03c80",
   "metadata": {},
   "source": [
    "### Get data types of all variables, including the new once"
   ]
  },
  {
   "cell_type": "code",
   "execution_count": null,
   "id": "aa64d342",
   "metadata": {},
   "outputs": [],
   "source": [
    "# Get data types of all variables\n",
    "df.dtypes\n"
   ]
  },
  {
   "cell_type": "markdown",
   "id": "bad3c2d0",
   "metadata": {},
   "source": [
    "## Count and remove missing values"
   ]
  },
  {
   "cell_type": "code",
   "execution_count": null,
   "id": "2cb2e71c",
   "metadata": {},
   "outputs": [],
   "source": [
    "# Count and remove missing values\n",
    "print(\"Missing values before removing: \", df.isnull().sum().sum())\n",
    "df = df.dropna()\n",
    "print(\"Missing values after removing: \", df.isnull().sum().sum())\n",
    "\n",
    "# Reset the index of the dataframe\n",
    "df = df.reset_index(drop=True)\n"
   ]
  },
  {
   "cell_type": "markdown",
   "id": "92641a30",
   "metadata": {},
   "source": [
    "## Count and remove duplicated values"
   ]
  },
  {
   "cell_type": "code",
   "execution_count": null,
   "id": "497f0862",
   "metadata": {},
   "outputs": [],
   "source": [
    "# Count and remove duplicates\n",
    "print(\"Number of duplicates before removing: \", df.duplicated().sum())\n",
    "df = df.drop_duplicates()\n",
    "print(\"Number of duplicates after removing: \", df.duplicated().sum())\n",
    "\n",
    "# Reset the index of the dataframe\n",
    "df = df.reset_index(drop=True)\n"
   ]
  },
  {
   "cell_type": "markdown",
   "id": "35ff8127",
   "metadata": {},
   "source": [
    "## Use string manipulation methods to create additional variables from the car type"
   ]
  },
  {
   "cell_type": "markdown",
   "id": "3e913110",
   "metadata": {},
   "source": [
    "### Change strings in 'type' to uppercase"
   ]
  },
  {
   "cell_type": "code",
   "execution_count": null,
   "id": "9892b303",
   "metadata": {},
   "outputs": [],
   "source": [
    "# Change strings in 'type' to uppercase and remove leading and trailing whitespaces\n",
    "df['type'] = df['type'].str.upper().str.strip()\n",
    "\n",
    "# Display variable 'type'\n",
    "df['type'].head()\n"
   ]
  },
  {
   "cell_type": "markdown",
   "id": "0aad2c21",
   "metadata": {},
   "source": [
    "### Calculate length of strings in 'type'"
   ]
  },
  {
   "cell_type": "code",
   "execution_count": null,
   "id": "10a83fdd",
   "metadata": {},
   "outputs": [],
   "source": [
    "# Calculate new variable 'type_len' with length of strings in 'type', use .appy()\n",
    "df['type_len'] = df['type'].apply(len)\n",
    "\n",
    "# Display variables 'type' and 'type_len'\n",
    "df[['type', 'type_len']].head()\n",
    "\n",
    "# Plot histogram of variable 'type_len'\n",
    "plt.figure(figsize=(7, 4))\n",
    "sns.histplot(df['type_len'], bins=25, kde=True)\n",
    "plt.title(\"Histogram of variable 'type_len'\")\n",
    "plt.xlabel('Type length')\n",
    "plt.ylabel('Frequency')\n",
    "plt.show()\n"
   ]
  },
  {
   "cell_type": "markdown",
   "id": "d33d3fd9",
   "metadata": {},
   "source": [
    "### Create binary (0/1) variable 'luxury_car'"
   ]
  },
  {
   "cell_type": "code",
   "execution_count": null,
   "id": "ead7acbe",
   "metadata": {},
   "outputs": [],
   "source": [
    "# Create a pattern which can be used to search the variable 'type'\n",
    "pattern = 'BUGATTI|FERRARI|ROLLS-ROYCE|LAMBORGHINI|BENTLEY|ASTON MARTIN|MASERATI|MCLAREN|PORSCHE'\n",
    "\n",
    "# Create new variable 'luxury_car' as binary dummy (0/1) variable\n",
    "df['luxury_car'] = df['type'].str.contains(pat = pattern).astype(int)\n",
    "print(df['luxury_car'].sum())\n",
    "\n",
    "# Show values\n",
    "df[['type','luxury_car',]].loc[df['luxury_car'] == 1]"
   ]
  },
  {
   "cell_type": "markdown",
   "id": "48bf12b3",
   "metadata": {},
   "source": [
    "### Create variable 'price_per_hp'"
   ]
  },
  {
   "cell_type": "code",
   "execution_count": null,
   "id": "c5090410",
   "metadata": {},
   "outputs": [],
   "source": [
    "# Create variable 'price_per_hp' (round to 2 decimal places)\n",
    "df['price_per_hp'] = round(df['price'] / df['hp'], 2)\n",
    "\n",
    "# Display variables 'price', 'hp' and 'price_per_hp'\n",
    "df[['price', 'hp', 'price_per_hp']].head()\n"
   ]
  },
  {
   "cell_type": "markdown",
   "id": "68ea9d52",
   "metadata": {},
   "source": [
    "### Include current datetime as time stamp"
   ]
  },
  {
   "cell_type": "code",
   "execution_count": null,
   "id": "fc2aaaf4",
   "metadata": {},
   "outputs": [],
   "source": [
    "# Include current datetime as time stamp in the format 'YYYY-MM-DD HH:MM:SS'\n",
    "df['timestamp'] = datetime.now().strftime('%Y-%m-%d %H:%M:%S')\n",
    "df['timestamp'].head()"
   ]
  },
  {
   "cell_type": "markdown",
   "id": "711a89b8",
   "metadata": {},
   "source": [
    "## Discretization of numerical data"
   ]
  },
  {
   "cell_type": "code",
   "execution_count": null,
   "id": "11798e2d",
   "metadata": {},
   "outputs": [],
   "source": [
    "# Discretization of the variable 'price_per_hp' into 5 bins (note the 'qcut' function)\n",
    "df['price_per_hp_bin'] = pd.qcut(df['price_per_hp'], \n",
    "                                 q=5,  # number of quantiles\n",
    "                                 labels=['very cheap', \n",
    "                                         'cheap', \n",
    "                                         'normal', \n",
    "                                         'expensive', \n",
    "                                         'very expensive'])\n",
    "\n",
    "# Show histogram of price_per_hp and barchart of variable 'price_per_hp_bin'\n",
    "plt.figure(figsize=(8, 3))\n",
    "\n",
    "# Create a 1x2 grid\n",
    "plt.subplot(1, 2, 1)\n",
    "sns.histplot(df['price_per_hp'], bins=25, kde=True)\n",
    "plt.title(\"Histogram of variable 'price_per_hp'\", fontsize=10)\n",
    "plt.xlabel('Price per HP')\n",
    "plt.ylabel('Frequency')\n",
    "\n",
    "plt.subplot(1, 2, 2)\n",
    "sns.countplot(data=df, x='price_per_hp_bin', orient='v')\n",
    "plt.title(\"Barchart of variable 'price_per_hp_bin'\", fontsize=10)\n",
    "plt.xlabel('Price category')\n",
    "plt.ylabel('Frequency')\n",
    "plt.xticks(rotation=45)\n",
    "plt.show()\n",
    "\n",
    "# Display variables 'price_per_hp' and 'price_per_hp_bin'\n",
    "df[['price_per_hp', 'price_per_hp_bin']].head()\n",
    "\n"
   ]
  },
  {
   "cell_type": "markdown",
   "id": "83721bac",
   "metadata": {},
   "source": [
    "## One Hot Encoding"
   ]
  },
  {
   "cell_type": "code",
   "execution_count": null,
   "id": "8ce3985e",
   "metadata": {},
   "outputs": [],
   "source": [
    "# One Hot Encoding of the variable 'price_per_m2_cat'\n",
    "try:\n",
    "    df = pd.get_dummies(df, \n",
    "                        columns=['price_per_hp_bin'], \n",
    "                        drop_first=False)\n",
    "except:\n",
    "    print(\"Dummy variables already exist\")\n",
    "\n",
    "# Convert boolean values to integers (0 and 1)\n",
    "df[df.filter(like='price_per_hp_bin').columns] = df.filter(like='price_per_hp_bin').astype(int)\n",
    "\n",
    "# Show values of the new dummy variables\n",
    "df.filter(like='price_per_hp_bin').head()\n"
   ]
  },
  {
   "cell_type": "markdown",
   "id": "b8180797",
   "metadata": {},
   "source": [
    "## Scaling"
   ]
  },
  {
   "cell_type": "markdown",
   "id": "4833f1c7",
   "metadata": {},
   "source": [
    "### Min-Max Scaling"
   ]
  },
  {
   "cell_type": "code",
   "execution_count": null,
   "id": "15262af8",
   "metadata": {},
   "outputs": [],
   "source": [
    "# Min-Max scaling of the variable 'mileage'\n",
    "df['mileage_scaled_minmax'] = (df['mileage'] - df['mileage'].min()) / (df['mileage'].max() - df['mileage'].min())\n",
    "\n",
    "# Histogram of the variable 'area' and 'area_scaled'\n",
    "ax = df[['mileage', 'mileage_scaled_minmax']].hist(bins=25, \n",
    "                                      figsize=(7, 3), \n",
    "                                      color='steelblue')\n",
    "                                      \n",
    "# Set the y-axis range for each subplot and add labels\n",
    "for axis, label in zip(ax.flatten(), ['Mileage', 'Min_Max_Scaled(Mileage)']):\n",
    "    axis.set_ylim(0, 500)\n",
    "    axis.set_xlabel(label)\n",
    "    axis.set_ylabel('Frequency')\n",
    "\n",
    "# Display the plot\n",
    "plt.show()"
   ]
  },
  {
   "cell_type": "markdown",
   "id": "e41084a3",
   "metadata": {},
   "source": [
    "### Max-Absolute Scaling"
   ]
  },
  {
   "cell_type": "code",
   "execution_count": null,
   "id": "fbb06012",
   "metadata": {},
   "outputs": [],
   "source": [
    "# Max-Absolute scaling of the variable 'area'\n",
    "df['mileage_scaled_max_abs'] = df['mileage'] / df['mileage'].abs().max()\n",
    "\n",
    "# Histogram of the variable 'area' and 'area_scaled_max_abs'\n",
    "ax = df[['mileage', 'mileage_scaled_max_abs']].hist(bins=25, \n",
    "                                              figsize=(7, 3), \n",
    "                                              color='steelblue')\n",
    "\n",
    "# Set the y-axis range for each subplot and add labels\n",
    "for axis, label in zip(ax.flatten(), ['Mileage', 'Max_Abs_Scaled(Mileage)']):\n",
    "    axis.set_ylim(0, 500)\n",
    "    axis.set_xlabel(label)\n",
    "    axis.set_ylabel('Frequency')\n",
    "\n",
    "# Display the plot\n",
    "plt.show()"
   ]
  },
  {
   "cell_type": "markdown",
   "id": "3a281e86",
   "metadata": {},
   "source": [
    "### Robust Scaling"
   ]
  },
  {
   "cell_type": "code",
   "execution_count": null,
   "id": "faa7e58e",
   "metadata": {},
   "outputs": [],
   "source": [
    "# Robust scaling of the variable 'area'\n",
    "df['mileage_scaled_robust'] = (df['mileage'] - df['mileage'].median()) / \\\n",
    "                           (df['mileage'].quantile(0.75) \\\n",
    "                           - df['mileage'].quantile(0.25))\n",
    "\n",
    "# Histogram of the variable 'area' and 'area_scaled_robust'\n",
    "ax = df[['mileage', 'mileage_scaled_robust']].hist(bins=25, \n",
    "                                             figsize=(7, 3), \n",
    "                                             color='steelblue')\n",
    "\n",
    "# Set the y-axis range for each subplot and add labels\n",
    "for axis, label in zip(ax.flatten(), ['Mileage', 'Scaled_Robust(Mileage)']):\n",
    "    axis.set_ylim(0, 500)\n",
    "    axis.set_xlabel(label)\n",
    "    axis.set_ylabel('Frequency')\n",
    "\n",
    "# Display the plot\n",
    "plt.show()"
   ]
  },
  {
   "cell_type": "markdown",
   "id": "862fcc01",
   "metadata": {},
   "source": [
    "## Standardization"
   ]
  },
  {
   "cell_type": "markdown",
   "id": "5c29f286",
   "metadata": {},
   "source": [
    "### Z-score Normalization"
   ]
  },
  {
   "cell_type": "code",
   "execution_count": null,
   "id": "88211811",
   "metadata": {},
   "outputs": [],
   "source": [
    "# Z-score Normalization of the variable 'area'\n",
    "df['mileage_scaled_z'] = (df['mileage'] - df['mileage'].mean()) / df['mileage'].std()\n",
    "\n",
    "# Histogram of the variable 'area' and 'area_scaled_z'\n",
    "ax = df[['mileage', 'mileage_scaled_z']].hist(bins=25, \n",
    "                                        figsize=(7, 3), \n",
    "                                        color='steelblue')\n",
    "\n",
    "# Set the y-axis range for each subplot and add labels\n",
    "for axis, label in zip(ax.flatten(), ['Mileage', 'Scaled_Z(Mileage)']):\n",
    "    axis.set_ylim(0, 500)\n",
    "    axis.set_xlabel(label)\n",
    "    axis.set_ylabel('Frequency')\n",
    "\n",
    "# Display the plot\n",
    "plt.show()"
   ]
  },
  {
   "cell_type": "markdown",
   "id": "e2a2800a",
   "metadata": {},
   "source": [
    "## Transformation"
   ]
  },
  {
   "cell_type": "markdown",
   "id": "639cc9b5",
   "metadata": {},
   "source": [
    "### Log-Transformation"
   ]
  },
  {
   "cell_type": "code",
   "execution_count": null,
   "id": "b77943af",
   "metadata": {},
   "outputs": [],
   "source": [
    "# Log-Transformation of the variable 'area'\n",
    "df['mileage_log'] = np.log(df['mileage'])\n",
    "\n",
    "# Histogram of the variable 'area' and 'area_log'\n",
    "ax = df[['mileage', 'mileage_log']].hist(bins=25, \n",
    "                                   figsize=(7, 3), \n",
    "                                   color='steelblue')\n",
    "\n",
    "# Set the y-axis range for each subplot and add labels\n",
    "for axis, label in zip(ax.flatten(), ['Mileage', 'Log(Mileage)']):\n",
    "    axis.set_ylim(0, 1200)\n",
    "    axis.set_xlabel(label)\n",
    "    axis.set_ylabel('Frequency')\n",
    "\n",
    "# Display the plot\n",
    "plt.show()"
   ]
  },
  {
   "cell_type": "markdown",
   "id": "447420c6",
   "metadata": {},
   "source": [
    "### SQRT-Transformation"
   ]
  },
  {
   "cell_type": "code",
   "execution_count": null,
   "id": "47386a41",
   "metadata": {},
   "outputs": [],
   "source": [
    "# SQRT-Transformation of the variable 'area'\n",
    "df['mileage_sqrt'] = np.sqrt(df['mileage'])\n",
    "\n",
    "# Histogram of the variable 'area' and 'area_sqrt'\n",
    "ax = df[['mileage', 'mileage_sqrt']].hist(bins=25, \n",
    "                                    figsize=(7, 3), \n",
    "                                    color='steelblue')\n",
    "\n",
    "# Set the y-axis range for each subplot and add labels\n",
    "for axis, label in zip(ax.flatten(), ['Mileage', 'SQRT(Mileage)']):\n",
    "    axis.set_ylim(0, 500)\n",
    "    axis.set_xlabel(label)\n",
    "    axis.set_ylabel('Frequency')\n",
    "\n",
    "# Display the plot\n",
    "plt.show()"
   ]
  },
  {
   "cell_type": "markdown",
   "id": "639d6d05",
   "metadata": {},
   "source": [
    "### Box-Cox Transformation"
   ]
  },
  {
   "cell_type": "code",
   "execution_count": null,
   "id": "ede50358",
   "metadata": {},
   "outputs": [],
   "source": [
    "# Box-Cox Transformation of the variable 'area'\n",
    "from scipy.stats import boxcox\n",
    "\n",
    "# Apply Box-Cox transformation\n",
    "df['mileage_boxcox'], _ = boxcox(df['mileage'])\n",
    "\n",
    "# Histogram of the variable 'area' and 'area_boxcox'\n",
    "ax = df[['mileage', 'mileage_boxcox']].hist(bins=25, \n",
    "                                      figsize=(7, 3), \n",
    "                                      color='steelblue')\n",
    "\n",
    "# Set the y-axis range for each subplot and add labels\n",
    "for axis, label in zip(ax.flatten(), ['Mileage', 'Box-Cox(Mileage)']):\n",
    "    axis.set_ylim(0, 500)\n",
    "    axis.set_xlabel(label)\n",
    "    axis.set_ylabel('Frequency')\n",
    "\n",
    "# Display the plot\n",
    "plt.show()"
   ]
  },
  {
   "cell_type": "markdown",
   "id": "d766870b",
   "metadata": {},
   "source": [
    "## Combining & organizing data"
   ]
  },
  {
   "cell_type": "markdown",
   "id": "03022398",
   "metadata": {},
   "source": [
    "### Reading car data with geocoded addresses"
   ]
  },
  {
   "cell_type": "code",
   "execution_count": null,
   "id": "08a25ad6",
   "metadata": {},
   "outputs": [],
   "source": [
    "# Meaning of variables\n",
    "# offer_id: unique identifier of the offer on autoscout24.ch\n",
    "# lat: geographical latitude\n",
    "# lon: geographical longitude\n",
    "# bfs_number: official municipality id\n",
    "# bfs_name: official municipality name\n",
    "\n",
    "# Geocoded data (i.e. data with latitude and longitude)\n",
    "df_geo = pd.read_csv('./Data/autoscout24_data_geocoded.csv', \n",
    "                     sep=';', \n",
    "                     encoding='utf-8')\n",
    "\n",
    "# Show data\n",
    "df_geo.head()"
   ]
  },
  {
   "cell_type": "markdown",
   "id": "5698a4db",
   "metadata": {},
   "source": [
    "### Join geo-information to car data using .merge()"
   ]
  },
  {
   "cell_type": "code",
   "execution_count": null,
   "id": "bcefb50a",
   "metadata": {},
   "outputs": [],
   "source": [
    "df2 = df.merge(df_geo[['offer_id', \n",
    "                       'lat', \n",
    "                       'lon', \n",
    "                       'bfs_number', \n",
    "                       'bfs_name']], \n",
    "               on=\"offer_id\",)\n",
    "\n",
    "# Show data\n",
    "df2[['offer_id',\n",
    "     'type',\t\n",
    "     'price',\n",
    "     'hp',\n",
    "     'price_per_hp',\n",
    "     'mileage',\t\n",
    "     'fuel_type',\t\n",
    "     'lat', \n",
    "     'lon', \n",
    "     'bfs_number', \n",
    "     'bfs_name']].head()"
   ]
  },
  {
   "cell_type": "markdown",
   "id": "ec21f353",
   "metadata": {},
   "source": [
    "### Reading municipality-level data from an .xlsx - file"
   ]
  },
  {
   "cell_type": "code",
   "execution_count": null,
   "id": "27a6e0bc",
   "metadata": {},
   "outputs": [],
   "source": [
    "# Meaning of variables:\n",
    "# bfs_number: municipality id\n",
    "# bfs_name: municipality name\n",
    "# pop: number of residents\n",
    "# pop_dens: population density per km2\n",
    "# frg_pct: percentage foreigners\n",
    "# emp: number of employees\n",
    "\n",
    "df_municip = pd.read_excel('./Data/municipality_data.xlsx', \n",
    "                           sheet_name='data_for_import')\n",
    "df_municip.head(5)"
   ]
  },
  {
   "cell_type": "markdown",
   "id": "c8600d9a",
   "metadata": {},
   "source": [
    "### Join municipality-level data to the car data data using .merge()"
   ]
  },
  {
   "cell_type": "code",
   "execution_count": null,
   "id": "c9587146",
   "metadata": {},
   "outputs": [],
   "source": [
    "# Merge needs a key which must be identical in both data sets (here the key is 'bfs_number')\n",
    "df3 = df2.merge(df_municip[['bfs_number', \n",
    "                            'pop', \n",
    "                            'pop_dens', \n",
    "                            'frg_pct', \n",
    "                            'emp']], \n",
    "                on=\"bfs_number\")\n",
    "\n",
    "# Show data\n",
    "df3[['offer_id',\n",
    "     'type',\n",
    "     'price',\n",
    "     'mileage',\n",
    "     'hp',\n",
    "     'price_per_hp',\n",
    "     'fuel_type',\n",
    "     'lat', \n",
    "     'lon', \n",
    "     'bfs_number', \n",
    "     'bfs_name',\n",
    "     'pop',\t\n",
    "     'pop_dens']].head()"
   ]
  },
  {
   "cell_type": "markdown",
   "id": "791c9563",
   "metadata": {},
   "source": [
    "### Sorting data"
   ]
  },
  {
   "cell_type": "code",
   "execution_count": null,
   "id": "df71d738",
   "metadata": {},
   "outputs": [],
   "source": [
    "# Sorting data by 'price' and 'area' with highest price above (ascending=False)\n",
    "df3 = df3.sort_values(by=['price', 'mileage'], \n",
    "                ascending=False)\n",
    "\n",
    "df3[['offer_id',\n",
    "     'type',\n",
    "     'price',\n",
    "     'mileage',\n",
    "     'hp',\n",
    "     'price_per_hp',\n",
    "     'fuel_type',\n",
    "     'lat', \n",
    "     'lon', \n",
    "     'bfs_number', \n",
    "     'bfs_name',\n",
    "     'pop',\t\n",
    "     'pop_dens']].head()\n"
   ]
  },
  {
   "cell_type": "markdown",
   "id": "1aa577f9",
   "metadata": {},
   "source": [
    "### Reshaping data"
   ]
  },
  {
   "cell_type": "markdown",
   "id": "2f70bf89",
   "metadata": {},
   "source": [
    "#### Reshaping data using .stack() and .unstack()"
   ]
  },
  {
   "cell_type": "code",
   "execution_count": null,
   "id": "70d142e6",
   "metadata": {},
   "outputs": [],
   "source": [
    "df_sub = df3[['bfs_name', 'mileage', 'price', 'hp']][:5]\n",
    "print('Original shape')\n",
    "print(df_sub, '\\n')\n",
    "\n",
    "df_sub_stacked = df_sub.stack()\n",
    "print('Stacked')\n",
    "print(df_sub_stacked, '\\n')\n",
    "\n",
    "# Using unstack\n",
    "print('Unstacked (= back to original shape)')\n",
    "print(df_sub_stacked.unstack())"
   ]
  },
  {
   "cell_type": "markdown",
   "id": "1db19bde",
   "metadata": {},
   "source": [
    "#### Reshaping data using .melt()"
   ]
  },
  {
   "cell_type": "code",
   "execution_count": null,
   "id": "02e1d544",
   "metadata": {},
   "outputs": [],
   "source": [
    "df_sub = df3[['mileage', 'price', 'hp']][:5]\n",
    "print('Original shape')\n",
    "print(df_sub, '\\n')\n",
    "\n",
    "print('Reshaped using .melt()')\n",
    "print(pd.melt(df, id_vars=['mileage'], value_vars=['price', 'hp']))"
   ]
  },
  {
   "cell_type": "markdown",
   "id": "c2991e66",
   "metadata": {},
   "source": [
    "### Pivoting data using .pivot_table()"
   ]
  },
  {
   "cell_type": "code",
   "execution_count": null,
   "id": "f1fed1c4",
   "metadata": {},
   "outputs": [],
   "source": [
    "pivot_table = pd.pivot_table(df3[['mileage', 'price', 'price_per_hp', 'hp', 'fuel_type']],\n",
    "                             index=['fuel_type'],\n",
    "                             values={'price': np.mean, \n",
    "                                     'price_per_hp': np.mean, \n",
    "                                     'hp': np.mean,\n",
    "                                     'mileage': np.mean}).round(2)\n",
    "\n",
    "# Format the values to 2 decimal places with trailing zeros\n",
    "pivot_table = pivot_table.applymap(lambda x: f\"{x:.2f}\" if isinstance(x, (int, float)) else x)\n",
    "\n",
    "# Display the pivot table\n",
    "pivot_table"
   ]
  },
  {
   "cell_type": "markdown",
   "id": "9cec2fdf",
   "metadata": {},
   "source": [
    "### Jupyter notebook --footer info-- (please always provide this at the end of each notebook)"
   ]
  },
  {
   "cell_type": "code",
   "execution_count": null,
   "id": "00499ca8",
   "metadata": {},
   "outputs": [],
   "source": [
    "import os\n",
    "import platform\n",
    "import socket\n",
    "from platform import python_version\n",
    "from datetime import datetime\n",
    "\n",
    "print('-----------------------------------')\n",
    "print(os.name.upper())\n",
    "print(platform.system(), '|', platform.release())\n",
    "print('Datetime:', datetime.now().strftime(\"%Y-%m-%d %H:%M:%S\"))\n",
    "print('Python Version:', python_version())\n",
    "print('-----------------------------------')"
   ]
  }
 ],
 "metadata": {
  "kernelspec": {
   "display_name": "dsenv",
   "language": "python",
   "name": "python3"
  },
  "language_info": {
   "codemirror_mode": {
    "name": "ipython",
    "version": 3
   },
   "file_extension": ".py",
   "mimetype": "text/x-python",
   "name": "python",
   "nbconvert_exporter": "python",
   "pygments_lexer": "ipython3",
   "version": "3.12.4"
  }
 },
 "nbformat": 4,
 "nbformat_minor": 5
}
